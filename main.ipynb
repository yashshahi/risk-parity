{
 "cells": [
  {
   "cell_type": "markdown",
   "id": "ce110dc6",
   "metadata": {},
   "source": [
    "# Risk Parity Portfolio\n",
    "***"
   ]
  },
  {
   "cell_type": "code",
   "execution_count": 20,
   "id": "62606567",
   "metadata": {},
   "outputs": [],
   "source": [
    "import pandas as pd \n",
    "import numpy as np \n",
    "import yfinance as yf\n",
    "from scipy.optimize import minimize #Imports the minimize function "
   ]
  },
  {
   "cell_type": "code",
   "execution_count": 5,
   "id": "49d39921",
   "metadata": {},
   "outputs": [
    {
     "name": "stderr",
     "output_type": "stream",
     "text": [
      "/tmp/ipykernel_18205/1785097103.py:1: FutureWarning: YF.download() has changed argument auto_adjust default to True\n",
      "  msft = yf.download(tickers = 'MSFT', period = '1mo')\n",
      "[*********************100%***********************]  1 of 1 completed\n",
      "/tmp/ipykernel_18205/1785097103.py:2: FutureWarning: YF.download() has changed argument auto_adjust default to True\n",
      "  lly = yf.download(tickers = 'LLY', period = '1mo')\n",
      "[*********************100%***********************]  1 of 1 completed\n",
      "/tmp/ipykernel_18205/1785097103.py:3: FutureWarning: YF.download() has changed argument auto_adjust default to True\n",
      "  cvx = yf.download(tickers = 'CVX', period = '1mo')\n",
      "[*********************100%***********************]  1 of 1 completed\n",
      "/tmp/ipykernel_18205/1785097103.py:4: FutureWarning: YF.download() has changed argument auto_adjust default to True\n",
      "  aapl = yf.download(tickers = 'AAPL', period = '1mo')\n",
      "[*********************100%***********************]  1 of 1 completed\n",
      "/tmp/ipykernel_18205/1785097103.py:5: FutureWarning: YF.download() has changed argument auto_adjust default to True\n",
      "  bhp = yf.download(tickers = 'BHP', period = '1mo')\n",
      "[*********************100%***********************]  1 of 1 completed\n"
     ]
    }
   ],
   "source": [
    "msft = yf.download(tickers = 'MSFT', period = '1mo')\n",
    "lly = yf.download(tickers = 'LLY', period = '1mo')\n",
    "cvx = yf.download(tickers = 'CVX', period = '1mo')\n",
    "aapl = yf.download(tickers = 'AAPL', period = '1mo')\n",
    "bhp = yf.download(tickers = 'BHP', period = '1mo')"
   ]
  },
  {
   "cell_type": "code",
   "execution_count": 10,
   "id": "bff8a651",
   "metadata": {},
   "outputs": [
    {
     "name": "stdout",
     "output_type": "stream",
     "text": [
      "MultiIndex([( 'Close', 'MSFT'),\n",
      "            (  'High', 'MSFT'),\n",
      "            (   'Low', 'MSFT'),\n",
      "            (  'Open', 'MSFT'),\n",
      "            ('Volume', 'MSFT')],\n",
      "           names=['Price', 'Ticker'])\n"
     ]
    }
   ],
   "source": [
    "print(msft.columns)"
   ]
  },
  {
   "cell_type": "code",
   "execution_count": null,
   "id": "85c4320d",
   "metadata": {},
   "outputs": [
    {
     "data": {
      "text/html": [
       "<div>\n",
       "<style scoped>\n",
       "    .dataframe tbody tr th:only-of-type {\n",
       "        vertical-align: middle;\n",
       "    }\n",
       "\n",
       "    .dataframe tbody tr th {\n",
       "        vertical-align: top;\n",
       "    }\n",
       "\n",
       "    .dataframe thead th {\n",
       "        text-align: right;\n",
       "    }\n",
       "</style>\n",
       "<table border=\"1\" class=\"dataframe\">\n",
       "  <thead>\n",
       "    <tr style=\"text-align: right;\">\n",
       "      <th></th>\n",
       "      <th>MSFT</th>\n",
       "      <th>LLY</th>\n",
       "      <th>CVX</th>\n",
       "      <th>AAPL</th>\n",
       "      <th>BHP</th>\n",
       "    </tr>\n",
       "  </thead>\n",
       "  <tbody>\n",
       "    <tr>\n",
       "      <th>MSFT</th>\n",
       "      <td>0.000072</td>\n",
       "      <td>0.000081</td>\n",
       "      <td>0.000026</td>\n",
       "      <td>0.000041</td>\n",
       "      <td>0.000065</td>\n",
       "    </tr>\n",
       "    <tr>\n",
       "      <th>LLY</th>\n",
       "      <td>0.000081</td>\n",
       "      <td>0.000670</td>\n",
       "      <td>-0.000042</td>\n",
       "      <td>-0.000010</td>\n",
       "      <td>-0.000061</td>\n",
       "    </tr>\n",
       "    <tr>\n",
       "      <th>CVX</th>\n",
       "      <td>0.000026</td>\n",
       "      <td>-0.000042</td>\n",
       "      <td>0.000113</td>\n",
       "      <td>0.000080</td>\n",
       "      <td>0.000070</td>\n",
       "    </tr>\n",
       "    <tr>\n",
       "      <th>AAPL</th>\n",
       "      <td>0.000041</td>\n",
       "      <td>-0.000010</td>\n",
       "      <td>0.000080</td>\n",
       "      <td>0.000216</td>\n",
       "      <td>0.000163</td>\n",
       "    </tr>\n",
       "    <tr>\n",
       "      <th>BHP</th>\n",
       "      <td>0.000065</td>\n",
       "      <td>-0.000061</td>\n",
       "      <td>0.000070</td>\n",
       "      <td>0.000163</td>\n",
       "      <td>0.000389</td>\n",
       "    </tr>\n",
       "  </tbody>\n",
       "</table>\n",
       "</div>"
      ],
      "text/plain": [
       "          MSFT       LLY       CVX      AAPL       BHP\n",
       "MSFT  0.000072  0.000081  0.000026  0.000041  0.000065\n",
       "LLY   0.000081  0.000670 -0.000042 -0.000010 -0.000061\n",
       "CVX   0.000026 -0.000042  0.000113  0.000080  0.000070\n",
       "AAPL  0.000041 -0.000010  0.000080  0.000216  0.000163\n",
       "BHP   0.000065 -0.000061  0.000070  0.000163  0.000389"
      ]
     },
     "execution_count": 11,
     "metadata": {},
     "output_type": "execute_result"
    }
   ],
   "source": [
    "msft['Return'] = msft['Close'].pct_change()  #'why Adj close'\n",
    "lly['Return'] = lly['Close'].pct_change()\n",
    "cvx['Return'] = cvx['Close'].pct_change()\n",
    "aapl['Return'] = aapl['Close'].pct_change()\n",
    "bhp['Return'] = bhp['Close'].pct_change()\n",
    "\n",
    "returns = pd.DataFrame({\n",
    "    'MSFT':msft['Return'],\n",
    "    'LLY':lly['Return'],\n",
    "    'CVX':cvx['Return'],\n",
    "    'AAPL':aapl['Return'],\n",
    "    'BHP':bhp['Return']\n",
    "\n",
    "})\n",
    "\n",
    "\n",
    "#drop any rows that have Nan values\n",
    "returns.dropna(inplace=True)\n",
    "\n",
    "#Calculate the variance-covariance matrix\n",
    "C = returns.cov()\n",
    "C\n"
   ]
  },
  {
   "cell_type": "markdown",
   "id": "18500758",
   "metadata": {},
   "source": [
    "# MCR = marginal contribution to Risk\n",
    "\n",
    "In portfolio theory , MCR measures how much the total portfolio risk would change if you slightly increase weight of one asset\n",
    "\n",
    "# RC = Risk Contribution\n",
    "\n",
    "total risk from asset i\n",
    "\n",
    "# In a risk parity portfolio \n",
    "A risk parity portfolio aims to equalize each assets contribution to total portfolio risk \n",
    "\n",
    "the optimization problem minimize the difference between each assets actual risk contirbution and the target (usually equal)\n"
   ]
  },
  {
   "cell_type": "code",
   "execution_count": null,
   "id": "4fcf17d5",
   "metadata": {},
   "outputs": [
    {
     "name": "stdout",
     "output_type": "stream",
     "text": [
      "Optimization terminated successfully    (Exit mode 0)\n",
      "            Current function value: 2.3783292605971322e-05\n",
      "            Iterations: 1\n",
      "            Function evaluations: 6\n",
      "            Gradient evaluations: 1\n",
      "optimal weights: [0.2 0.2 0.2 0.2 0.2]\n",
      "objective function value at iptumal weights: 2.3783292605971322e-05\n",
      "success: True\n",
      "Message: Optimization terminated successfully\n"
     ]
    }
   ],
   "source": [
    "#Method 1 - Implementation \n",
    "#SLSQP -> sequential least square programming\n",
    "\n",
    "w = np.ones(5)/5\n",
    "C = np.array(C)\n",
    "def obj_function (w , C):\n",
    "    p = C @ w\n",
    "    MCR = p/np.sqrt(w.T @ C @ w)\n",
    "    f = 0.0\n",
    "    for i in range(len(w)):\n",
    "        for j in range(len(w)):\n",
    "            f+=(w[i]*MCR[i]-w[j]*MCR[j])**2\n",
    "    return f \n",
    "    \n",
    "def objective(w):\n",
    "    return obj_function(w, C)\n",
    "\n",
    "#constraints\n",
    "\n",
    "constraints = (\n",
    "    {'type':'eq', 'fun': lambda w:np.sum(w)-1}, #equality constraint sum(w)=1 \n",
    "    {'type':'ineq', 'fun': lambda w:w}    #inequality constraint: w>= 0 \n",
    ")\n",
    "\n",
    "#bounds\n",
    "bounds = [(0,1) for _ in range(C.shape[1])]\n",
    "\n",
    "#optimize \n",
    "results = minimize(objective, w,method= 'SLSQP',constraints= constraints ,bounds = bounds,options={'disp':True})\n",
    "\n",
    "#optimal weights\n",
    "optimal_weights = results.x\n",
    "\n",
    "print('optimal weights:',optimal_weights)\n",
    "print('objective function value at optimal weights:',result.fun)  #closer to zero means risk contribution are nearly equal \n",
    "print('success:', result.success)\n",
    "print('Message:', result.message)    "
   ]
  },
  {
   "cell_type": "code",
   "execution_count": 22,
   "id": "d93c8ae3",
   "metadata": {},
   "outputs": [
    {
     "name": "stdout",
     "output_type": "stream",
     "text": [
      "Optimization terminated successfully    (Exit mode 0)\n",
      "            Current function value: 1.786367541063129e-07\n",
      "            Iterations: 26\n",
      "            Function evaluations: 157\n",
      "            Gradient evaluations: 26\n",
      "optimal weights: [0.94634287 0.52434475 0.96866008 0.58117961 0.48453174]\n",
      "objective function value at optimal weights: 1.786367541063129e-07\n",
      "success: True\n",
      "Message: Optimization terminated successfully\n"
     ]
    }
   ],
   "source": [
    "#Method 2 - Implementation \n",
    "w = np.ones(5)/5 #initial guess for weight matrix\n",
    "C = np.array(C)\n",
    "\n",
    "def obj_function1(w, C):\n",
    "    return np.sqrt(w.T @ C @ w)\n",
    "\n",
    "def objective1(w):\n",
    "    return obj_function(w, C)\n",
    "\n",
    "#constraints\n",
    "\n",
    "constraints =(\n",
    "    {'type':'ineq','fun':lambda w:np.sum(np.log(w))+ 2},\n",
    "    {'type':'ineq','fun':lambda w:w }\n",
    ")\n",
    "\n",
    "#bounds\n",
    "bounds = [(0,1) for _ in range(C.shape[1])]\n",
    "\n",
    "#optimize\n",
    "result= minimize(objective, w, method='SLSQP',constraints=constraints,bounds=bounds,options={'disp':True})\n",
    "\n",
    "# optimal weights\n",
    "optimal_weights = result.x\n",
    "\n",
    "print('optimal weights:',optimal_weights)\n",
    "print('objective function value at optimal weights:',result.fun)  #closer to zero means risk contribution are nearly equal \n",
    "print('success:', result.success)\n",
    "print('Message:', result.message)  "
   ]
  },
  {
   "cell_type": "code",
   "execution_count": null,
   "id": "875eda80",
   "metadata": {},
   "outputs": [],
   "source": []
  }
 ],
 "metadata": {
  "kernelspec": {
   "display_name": ".conda",
   "language": "python",
   "name": "python3"
  },
  "language_info": {
   "codemirror_mode": {
    "name": "ipython",
    "version": 3
   },
   "file_extension": ".py",
   "mimetype": "text/x-python",
   "name": "python",
   "nbconvert_exporter": "python",
   "pygments_lexer": "ipython3",
   "version": "3.11.14"
  }
 },
 "nbformat": 4,
 "nbformat_minor": 5
}
